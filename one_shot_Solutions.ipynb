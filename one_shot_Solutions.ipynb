{
 "cells": [
  {
   "cell_type": "markdown",
   "metadata": {},
   "source": [
    "# One Shot Learning with Siamese Networks\n",
    "\n",
    "Adapted from: https://github.com/harveyslash/Facial-Similarity-with-Siamese-Networks-in-Pytorch"
   ]
  },
  {
   "cell_type": "markdown",
   "metadata": {},
   "source": [
    "In this notebook, we will be using a Siamese Network to perform a image verification task on the Omniglot dataset. Given two images, we will determine if they belong to the same class. "
   ]
  },
  {
   "cell_type": "markdown",
   "metadata": {},
   "source": [
    "## Imports"
   ]
  },
  {
   "cell_type": "code",
   "execution_count": 1,
   "metadata": {},
   "outputs": [],
   "source": [
    "%matplotlib inline\n",
    "import torchvision\n",
    "import torchvision.datasets as dset\n",
    "import torchvision.transforms as transforms\n",
    "from torch.utils.data import DataLoader,Dataset\n",
    "import matplotlib.pyplot as plt\n",
    "import torchvision.utils\n",
    "import numpy as np\n",
    "import random\n",
    "from PIL import Image\n",
    "import torch\n",
    "from torch.autograd import Variable\n",
    "import PIL.ImageOps    \n",
    "import torch.nn as nn\n",
    "from torch import optim\n",
    "import torch.nn.functional as F"
   ]
  },
  {
   "cell_type": "markdown",
   "metadata": {},
   "source": [
    "## Helper functions"
   ]
  },
  {
   "cell_type": "code",
   "execution_count": 2,
   "metadata": {},
   "outputs": [],
   "source": [
    "def imshow(img,text=None,should_save=False):\n",
    "    npimg = img.numpy()\n",
    "    plt.axis(\"off\")\n",
    "    if text:\n",
    "        plt.text(75, 8, text, style='italic',fontweight='bold',\n",
    "            bbox={'facecolor':'white', 'alpha':0.8, 'pad':10})\n",
    "    plt.imshow(np.transpose(npimg, (1, 2, 0)))\n",
    "    plt.show()    \n",
    "\n",
    "def show_plot(iteration,loss):\n",
    "    plt.plot(iteration,loss)\n",
    "    plt.show()"
   ]
  },
  {
   "cell_type": "code",
   "execution_count": 3,
   "metadata": {},
   "outputs": [],
   "source": [
    "training_dir = \"./data/training/\"\n",
    "testing_dir = \"./data/testing/\"\n",
    "train_batch_size = 64\n",
    "train_number_epochs = 100"
   ]
  },
  {
   "cell_type": "markdown",
   "metadata": {},
   "source": [
    "## Custom Dataset Class\n",
    "This dataset returns a pair of images and a label 1 if they belong to different classes, or 0 if they belong to the same class. The images are chosen so roughly 50% of the images in a pair belong to the same class."
   ]
  },
  {
   "cell_type": "code",
   "execution_count": 4,
   "metadata": {},
   "outputs": [],
   "source": [
    "class SiameseNetworkDataset(Dataset):\n",
    "    \n",
    "    def __init__(self, imageFolderDataset):\n",
    "        self.imageFolderDataset = imageFolderDataset   \n",
    "        self.images = np.array(list(map(list, self.imageFolderDataset.imgs)))\n",
    "        self.i = 0\n",
    "        \n",
    "    def __getitem__(self,index):\n",
    "        img0_tuple = random.choice(self.images)\n",
    "        #we need to make sure approx 50% of images are in the same class\n",
    "        should_get_same_class = random.randint(0,1)\n",
    "        if should_get_same_class:\n",
    "            ind = random.choice(np.where(self.images[:,1] == img0_tuple[1])[0])\n",
    "            img1_tuple = self.images[ind]\n",
    "        else:\n",
    "            img1_tuple = random.choice(self.images)\n",
    "\n",
    "        \n",
    "        img0 = Image.open(img0_tuple[0])\n",
    "        img1 = Image.open(img1_tuple[0])\n",
    "        img0 = img0.convert(\"L\")\n",
    "        img1 = img1.convert(\"L\")\n",
    "        \n",
    "        transform=transforms.Compose([transforms.Resize((100,100)),transforms.ToTensor()])\n",
    "        \n",
    "        img0 = transform(img0)\n",
    "        img1 = transform(img1)\n",
    "\n",
    "        return img0, img1 , torch.from_numpy(np.array([int(img1_tuple[1]!=img0_tuple[1])],dtype=np.float32))\n",
    "    \n",
    "    def __len__(self):\n",
    "        return len(self.imageFolderDataset.imgs)"
   ]
  },
  {
   "cell_type": "markdown",
   "metadata": {},
   "source": [
    "## Using Image Folder Dataset"
   ]
  },
  {
   "cell_type": "code",
   "execution_count": 5,
   "metadata": {},
   "outputs": [],
   "source": [
    "folder_dataset = dset.ImageFolder(root=training_dir)"
   ]
  },
  {
   "cell_type": "code",
   "execution_count": 6,
   "metadata": {},
   "outputs": [],
   "source": [
    "siamese_dataset = SiameseNetworkDataset(imageFolderDataset=folder_dataset)"
   ]
  },
  {
   "cell_type": "markdown",
   "metadata": {},
   "source": [
    "## Visualising some of the data\n",
    "The top row and the bottom row of any column is one pair. The 0s and 1s correspond to the column of the image.\n",
    "0 indiciates dissimilar, and 1 indicates similar."
   ]
  },
  {
   "cell_type": "code",
   "execution_count": 7,
   "metadata": {},
   "outputs": [
    {
     "data": {
      "image/png": "[encoded data removed]",
      "text/plain": [
       "<Figure size 432x288 with 1 Axes>"
      ]
     },
     "metadata": {},
     "output_type": "display_data"
    },
    {
     "name": "stdout",
     "output_type": "stream",
     "text": [
      "[[1.]\n",
      " [1.]\n",
      " [1.]\n",
      " [1.]\n",
      " [0.]\n",
      " [1.]\n",
      " [1.]\n",
      " [1.]]\n"
     ]
    }
   ],
   "source": [
    "vis_dataloader = DataLoader(siamese_dataset,\n",
    "                        shuffle=True,\n",
    "                        num_workers=8,\n",
    "                        batch_size=8)\n",
    "dataiter = iter(vis_dataloader)\n",
    "\n",
    "example_batch = next(dataiter)\n",
    "concatenated = torch.cat((example_batch[0],example_batch[1]),0)\n",
    "imshow(torchvision.utils.make_grid(concatenated))\n",
    "print(example_batch[2].numpy())"
   ]
  },
  {
   "cell_type": "markdown",
   "metadata": {
    "collapsed": true
   },
   "source": [
    "## Neural Net Definition\n",
    "We will use a standard convolutional neural network with the following structure (Note the input image has 1 channel):\n",
    "*  Reflection padding to maintain size\n",
    "*  Conv Layer with 4 3x3 kernels\n",
    "*  ReLU\n",
    "*  BatchNorm - takes in number of features (number of output channels of conv layer)\n",
    "\n",
    "*  Reflection padding to maintain size\n",
    "*  Conv Layer with 8 3x3 kernels\n",
    "*  ReLU\n",
    "*  BatchNorm\n",
    "\n",
    "*  Reflection padding to maintain size\n",
    "*  Conv Layer with 8 3x3 kernels\n",
    "*  ReLU\n",
    "*  BatchNorm\n",
    "\n",
    "\n",
    "The Conv2d function takes in as input: number of input channels, number of filters (number of output channels), kernel size.\n",
    "\n",
    "\n",
    "Then we will be adding some fully connected layers to bring each image into a 5 dimensional feature space.\n",
    "\n",
    "#### TODO:\n",
    "The first set of layers in the CNN have been added. Using those as reference for syntax, fill in the rest of the layers.\n",
    "\n",
    "Think about what the forward pass of this network should do. What should the inputs and outputs be?"
   ]
  },
  {
   "cell_type": "code",
   "execution_count": 8,
   "metadata": {},
   "outputs": [],
   "source": [
    "class SiameseNetwork(nn.Module):\n",
    "    def __init__(self):\n",
    "        \"\"\"\n",
    "        TODO: Fill in the remaining layers of the CNN\n",
    "        \"\"\"\n",
    "        super(SiameseNetwork, self).__init__()\n",
    "        self.cnn1 = nn.Sequential(\n",
    "            nn.ReflectionPad2d(1), # padding with values at edges being reflected\n",
    "            nn.Conv2d(1, 4, kernel_size=3),\n",
    "            nn.ReLU(inplace=True),\n",
    "            nn.BatchNorm2d(4),\n",
    "            \n",
    "            nn.ReflectionPad2d(1),\n",
    "            nn.Conv2d(4, 8, kernel_size=3),\n",
    "            nn.ReLU(inplace=True),\n",
    "            nn.BatchNorm2d(8),\n",
    "\n",
    "            nn.ReflectionPad2d(1),\n",
    "            nn.Conv2d(8, 8, kernel_size=3),\n",
    "            nn.ReLU(inplace=True),\n",
    "            nn.BatchNorm2d(8),\n",
    "        )\n",
    "\n",
    "        self.fc1 = nn.Sequential(\n",
    "            nn.Linear(8*100*100, 500),\n",
    "            nn.ReLU(inplace=True),\n",
    "\n",
    "            nn.Linear(500, 500),\n",
    "            nn.ReLU(inplace=True),\n",
    "\n",
    "            nn.Linear(500, 5))\n",
    "\n",
    "    def forward_once(self, x):\n",
    "        \"\"\"\n",
    "        TODO: Think about how given an input we can appropriately run it through the network. \n",
    "        Is there something we have to do between the convolution and fully connected layers?\n",
    "        \"\"\"\n",
    "        output = self.cnn1(x)\n",
    "        output = output.view(output.size()[0], -1) # reshaping\n",
    "        output = self.fc1(output)\n",
    "        return output\n",
    "\n",
    "    def forward(self, input1, input2):\n",
    "        \"\"\"\n",
    "        TODO: Using the forward_once function (which runs the conv and fully connected layers on a single input)\n",
    "        what should the forward pass of the overall network do? Refer back to the diagram of a Siamese network\n",
    "        and think about the inputs and outputs.\n",
    "        \"\"\"\n",
    "        output1 = self.forward_once(input1)\n",
    "        output2 = self.forward_once(input2)\n",
    "        euclidean_distance = F.pairwise_distance(output1, output2)\n",
    "        return euclidean_distance"
   ]
  },
  {
   "cell_type": "markdown",
   "metadata": {},
   "source": [
    "## Contrastive Loss\n",
    "\n",
    "The contrastive loss function takes in \n",
    "\n",
    "1) The pairwise distance between two images\n",
    "\n",
    "2) Label representing if the images are same (0) or different (1)\n",
    "\n",
    "#### TODO:\n",
    "Implement the loss function:\n",
    "$$L(d, y) = (1-y)*d^2 + y*(\\max(\\alpha - d, 0))^2$$\n",
    "\n",
    "Hints:\n",
    "* Use torch.pow(input, exponent) to square a tensor\n",
    "* Use torch.clamp(input, min=...) or torch.clamp(expression, max=...) to cut off the values of an input at some min or max value\n",
    "* Remember: The input will be given as a batch, but we want a single scalar for the loss"
   ]
  },
  {
   "cell_type": "code",
   "execution_count": 9,
   "metadata": {},
   "outputs": [],
   "source": [
    "class ContrastiveLoss(torch.nn.Module):\n",
    "    \"\"\"\n",
    "    Contrastive loss function.\n",
    "    Based on: http://yann.lecun.com/exdb/publis/pdf/hadsell-chopra-lecun-06.pdf\n",
    "    \"\"\"\n",
    "\n",
    "    def __init__(self, margin=5.0):\n",
    "        super(ContrastiveLoss, self).__init__()\n",
    "        self.margin = margin\n",
    "\n",
    "    def forward(self, euclidean_distance, label):\n",
    "        \"\"\"\n",
    "        TODO: Implement the loss function above\n",
    "        \"\"\"\n",
    "        loss_contrastive = torch.mean((1-label) * torch.pow(euclidean_distance, 2) +\n",
    "                                      (label) * torch.pow(torch.clamp(self.margin - euclidean_distance, min=0.0), 2))\n",
    "\n",
    "\n",
    "        return loss_contrastive"
   ]
  },
  {
   "cell_type": "markdown",
   "metadata": {},
   "source": [
    "## Training Time!"
   ]
  },
  {
   "cell_type": "code",
   "execution_count": 10,
   "metadata": {},
   "outputs": [],
   "source": [
    "train_dataloader = DataLoader(siamese_dataset,\n",
    "                        shuffle=True,\n",
    "                        num_workers=8,\n",
    "                        batch_size=train_batch_size)"
   ]
  },
  {
   "cell_type": "code",
   "execution_count": 11,
   "metadata": {},
   "outputs": [],
   "source": [
    "net = SiameseNetwork()\n",
    "criterion = ContrastiveLoss()\n",
    "optimizer = optim.Adam(net.parameters(),lr = 0.0005)"
   ]
  },
  {
   "cell_type": "code",
   "execution_count": 12,
   "metadata": {},
   "outputs": [],
   "source": [
    "counter = []\n",
    "loss_history = [] \n",
    "iteration_number= 0"
   ]
  },
  {
   "cell_type": "code",
   "execution_count": 13,
   "metadata": {
    "scrolled": true
   },
   "outputs": [
    {
     "name": "stdout",
     "output_type": "stream",
     "text": [
      "Epoch number 0\n",
      " Current loss 22.433549880981445\n",
      "\n",
      "Epoch number 1\n",
      " Current loss 25.555986404418945\n",
      "\n",
      "Epoch number 2\n",
      " Current loss 3.676987648010254\n",
      "\n",
      "Epoch number 3\n",
      " Current loss 6.847812652587891\n",
      "\n",
      "Epoch number 4\n",
      " Current loss 2.707871913909912\n",
      "\n",
      "Epoch number 5\n",
      " Current loss 3.6312508583068848\n",
      "\n",
      "Epoch number 6\n",
      " Current loss 1.8701753616333008\n",
      "\n",
      "Epoch number 7\n",
      " Current loss 0.5429127812385559\n",
      "\n",
      "Epoch number 8\n",
      " Current loss 1.8864848613739014\n",
      "\n",
      "Epoch number 9\n",
      " Current loss 0.6373158097267151\n",
      "\n",
      "Epoch number 10\n",
      " Current loss 1.8121246099472046\n",
      "\n",
      "Epoch number 11\n",
      " Current loss 1.1992892026901245\n",
      "\n",
      "Epoch number 12\n",
      " Current loss 0.8398733735084534\n",
      "\n",
      "Epoch number 13\n",
      " Current loss 0.5792741775512695\n",
      "\n",
      "Epoch number 14\n",
      " Current loss 0.647585391998291\n",
      "\n",
      "Epoch number 15\n",
      " Current loss 0.569573700428009\n",
      "\n",
      "Epoch number 16\n",
      " Current loss 1.36626136302948\n",
      "\n",
      "Epoch number 17\n",
      " Current loss 0.4925626814365387\n",
      "\n",
      "Epoch number 18\n",
      " Current loss 0.07777535915374756\n",
      "\n",
      "Epoch number 19\n",
      " Current loss 0.13631685078144073\n",
      "\n",
      "Epoch number 20\n",
      " Current loss 0.31512391567230225\n",
      "\n",
      "Epoch number 21\n",
      " Current loss 0.15878690779209137\n",
      "\n",
      "Epoch number 22\n",
      " Current loss 0.37152913212776184\n",
      "\n",
      "Epoch number 23\n",
      " Current loss 0.5165260434150696\n",
      "\n",
      "Epoch number 24\n",
      " Current loss 0.07130562514066696\n",
      "\n",
      "Epoch number 25\n",
      " Current loss 0.37003177404403687\n",
      "\n",
      "Epoch number 26\n",
      " Current loss 0.08992093801498413\n",
      "\n",
      "Epoch number 27\n",
      " Current loss 0.2838400900363922\n",
      "\n",
      "Epoch number 28\n",
      " Current loss 0.10673414915800095\n",
      "\n",
      "Epoch number 29\n",
      " Current loss 0.2688366770744324\n",
      "\n",
      "Epoch number 30\n",
      " Current loss 0.11338581889867783\n",
      "\n",
      "Epoch number 31\n",
      " Current loss 0.09186147153377533\n",
      "\n",
      "Epoch number 32\n",
      " Current loss 0.20649349689483643\n",
      "\n",
      "Epoch number 33\n",
      " Current loss 0.08129790425300598\n",
      "\n",
      "Epoch number 34\n",
      " Current loss 0.16611354053020477\n",
      "\n",
      "Epoch number 35\n",
      " Current loss 0.05464869737625122\n",
      "\n",
      "Epoch number 36\n",
      " Current loss 0.0726708248257637\n",
      "\n",
      "Epoch number 37\n",
      " Current loss 0.05301213636994362\n",
      "\n",
      "Epoch number 38\n",
      " Current loss 0.09243723750114441\n",
      "\n",
      "Epoch number 39\n",
      " Current loss 0.08798455446958542\n",
      "\n",
      "Epoch number 40\n",
      " Current loss 0.030090246349573135\n",
      "\n",
      "Epoch number 41\n",
      " Current loss 0.10266163945198059\n",
      "\n",
      "Epoch number 42\n",
      " Current loss 0.5705583691596985\n",
      "\n",
      "Epoch number 43\n",
      " Current loss 0.055751629173755646\n",
      "\n",
      "Epoch number 44\n",
      " Current loss 0.07901524752378464\n",
      "\n",
      "Epoch number 45\n",
      " Current loss 0.11276537925004959\n",
      "\n",
      "Epoch number 46\n",
      " Current loss 0.01737234741449356\n",
      "\n",
      "Epoch number 47\n",
      " Current loss 0.033294424414634705\n",
      "\n",
      "Epoch number 48\n",
      " Current loss 0.019352668896317482\n",
      "\n",
      "Epoch number 49\n",
      " Current loss 0.23352330923080444\n",
      "\n",
      "Epoch number 50\n",
      " Current loss 0.06844538450241089\n",
      "\n",
      "Epoch number 51\n",
      " Current loss 0.09832721948623657\n",
      "\n",
      "Epoch number 52\n",
      " Current loss 0.07222010940313339\n",
      "\n",
      "Epoch number 53\n",
      " Current loss 0.02570902183651924\n",
      "\n",
      "Epoch number 54\n",
      " Current loss 0.11372736096382141\n",
      "\n",
      "Epoch number 55\n",
      " Current loss 0.4421965479850769\n",
      "\n",
      "Epoch number 56\n",
      " Current loss 0.029636723920702934\n",
      "\n",
      "Epoch number 57\n",
      " Current loss 0.06888272613286972\n",
      "\n",
      "Epoch number 58\n",
      " Current loss 0.16697485744953156\n",
      "\n",
      "Epoch number 59\n",
      " Current loss 0.01781126856803894\n",
      "\n",
      "Epoch number 60\n",
      " Current loss 0.16073468327522278\n",
      "\n",
      "Epoch number 61\n",
      " Current loss 0.10695287585258484\n",
      "\n",
      "Epoch number 62\n",
      " Current loss 0.0698527917265892\n",
      "\n",
      "Epoch number 63\n",
      " Current loss 0.029243869706988335\n",
      "\n",
      "Epoch number 64\n",
      " Current loss 0.15983134508132935\n",
      "\n",
      "Epoch number 65\n",
      " Current loss 0.025935592129826546\n",
      "\n",
      "Epoch number 66\n",
      " Current loss 0.018069274723529816\n",
      "\n",
      "Epoch number 67\n",
      " Current loss 0.15468740463256836\n",
      "\n",
      "Epoch number 68\n",
      " Current loss 0.020822016522288322\n",
      "\n",
      "Epoch number 69\n",
      " Current loss 0.04108911752700806\n",
      "\n",
      "Epoch number 70\n",
      " Current loss 0.028132686391472816\n",
      "\n",
      "Epoch number 71\n",
      " Current loss 0.0858016386628151\n",
      "\n",
      "Epoch number 72\n",
      " Current loss 0.04506946727633476\n",
      "\n",
      "Epoch number 73\n",
      " Current loss 0.07463637739419937\n",
      "\n",
      "Epoch number 74\n",
      " Current loss 0.03976466506719589\n",
      "\n",
      "Epoch number 75\n",
      " Current loss 0.04429168254137039\n",
      "\n",
      "Epoch number 76\n",
      " Current loss 0.04399716109037399\n",
      "\n",
      "Epoch number 77\n",
      " Current loss 0.014432376250624657\n",
      "\n",
      "Epoch number 78\n",
      " Current loss 0.03721559792757034\n",
      "\n",
      "Epoch number 79\n",
      " Current loss 0.02460590749979019\n",
      "\n",
      "Epoch number 80\n",
      " Current loss 0.0026393886655569077\n",
      "\n",
      "Epoch number 81\n",
      " Current loss 0.03397662565112114\n",
      "\n",
      "Epoch number 82\n",
      " Current loss 0.01760193705558777\n",
      "\n",
      "Epoch number 83\n",
      " Current loss 0.05120176076889038\n",
      "\n",
      "Epoch number 84\n",
      " Current loss 0.018439924344420433\n",
      "\n",
      "Epoch number 85\n",
      " Current loss 0.020017268136143684\n",
      "\n",
      "Epoch number 86\n",
      " Current loss 0.01032968983054161\n",
      "\n",
      "Epoch number 87\n",
      " Current loss 0.012090777978301048\n",
      "\n",
      "Epoch number 88\n",
      " Current loss 0.0025677899830043316\n",
      "\n",
      "Epoch number 89\n",
      " Current loss 0.02347336895763874\n",
      "\n",
      "Epoch number 90\n",
      " Current loss 0.03456927463412285\n",
      "\n",
      "Epoch number 91\n",
      " Current loss 0.006838888395577669\n",
      "\n",
      "Epoch number 92\n",
      " Current loss 0.008954034186899662\n",
      "\n",
      "Epoch number 93\n",
      " Current loss 0.0018811288755387068\n",
      "\n",
      "Epoch number 94\n",
      " Current loss 0.02981059066951275\n",
      "\n",
      "Epoch number 95\n",
      " Current loss 0.013392377644777298\n",
      "\n",
      "Epoch number 96\n",
      " Current loss 0.009800427593290806\n",
      "\n",
      "Epoch number 97\n",
      " Current loss 0.00280367280356586\n",
      "\n",
      "Epoch number 98\n",
      " Current loss 0.007924439385533333\n",
      "\n",
      "Epoch number 99\n",
      " Current loss 0.012813015840947628\n",
      "\n"
     ]
    },
    {
     "data": {
      "image/png": "[encoded data removed]",
      "text/plain": [
       "<Figure size 432x288 with 1 Axes>"
      ]
     },
     "metadata": {},
     "output_type": "display_data"
    }
   ],
   "source": [
    "for epoch in range(0, train_number_epochs):\n",
    "    for i, data in enumerate(train_dataloader,0):\n",
    "        img0, img1 , label = data\n",
    "        img0, img1 , label = Variable(img0), Variable(img1) , Variable(label)\n",
    "        distance = net(img0,img1)\n",
    "        optimizer.zero_grad()\n",
    "        loss_contrastive = criterion(distance,label)\n",
    "        loss_contrastive.backward()\n",
    "        optimizer.step()\n",
    "        if i %10 == 0 :\n",
    "            print(\"Epoch number {}\\n Current loss {}\\n\".format(epoch,loss_contrastive.data[0]))\n",
    "            iteration_number +=10\n",
    "            counter.append(iteration_number)\n",
    "            loss_history.append(loss_contrastive.data[0])\n",
    "show_plot(counter,loss_history)"
   ]
  },
  {
   "cell_type": "markdown",
   "metadata": {},
   "source": [
    "## Some simple testing\n",
    "The last 3 subjects were held out from the training, and will be used to test. The Distance between each image pair denotes the degree of similarity the model found between the two images. Less means it found more similar, while higher values indicate it found them to be dissimilar."
   ]
  },
  {
   "cell_type": "code",
   "execution_count": 14,
   "metadata": {},
   "outputs": [],
   "source": [
    "class SiameseNetworkDataset_Evaluation():\n",
    "    \n",
    "    def __init__(self, imageFolderDataset):\n",
    "        self.imageFolderDataset = imageFolderDataset   \n",
    "        self.images = np.array(list(map(list, self.imageFolderDataset.imgs)))\n",
    "        self.ind = 0\n",
    "        \n",
    "    def __iter__(self):\n",
    "        return self\n",
    "        \n",
    "    def next(self):\n",
    "        img0_tuple = random.choice(self.images)\n",
    "        img1_tuple = self.images[self.ind]\n",
    "        self.ind += 1\n",
    "        \n",
    "        img0 = Image.open(img0_tuple[0])\n",
    "        img1 = Image.open(img1_tuple[0])\n",
    "        img0 = img0.convert(\"L\")\n",
    "        img1 = img1.convert(\"L\")\n",
    "        \n",
    "        transform=transforms.Compose([transforms.Resize((100,100)),transforms.ToTensor()])\n",
    "        \n",
    "        img0 = transform(img0)\n",
    "        img1 = transform(img1)\n",
    "        return img0, img1, img0_tuple[1], img1_tuple[1]\n",
    "    \n",
    "    def __len__(self):\n",
    "        return len(self.imageFolderDataset.imgs)"
   ]
  },
  {
   "cell_type": "code",
   "execution_count": 15,
   "metadata": {
    "run_control": {
     "marked": true
    },
    "scrolled": false
   },
   "outputs": [
    {
     "data": {
      "image/png": "[encoded data removed]",
      "text/plain": [
       "<Figure size 432x288 with 1 Axes>"
      ]
     },
     "metadata": {},
     "output_type": "display_data"
    },
    {
     "data": {
      "image/png": "[encoded data removed]",
      "text/plain": [
       "<Figure size 432x288 with 1 Axes>"
      ]
     },
     "metadata": {},
     "output_type": "display_data"
    },
    {
     "data": {
      "image/png": "[encoded data removed]",
      "text/plain": [
       "<Figure size 432x288 with 1 Axes>"
      ]
     },
     "metadata": {},
     "output_type": "display_data"
    },
    {
     "data": {
      "image/png": "[encoded data removed]",
      "text/plain": [
       "<Figure size 432x288 with 1 Axes>"
      ]
     },
     "metadata": {},
     "output_type": "display_data"
    },
    {
     "data": {
      "image/png": "[encoded data removed]",
      "text/plain": [
       "<Figure size 432x288 with 1 Axes>"
      ]
     },
     "metadata": {},
     "output_type": "display_data"
    },
    {
     "data": {
      "image/png": "[encoded data removed]",
      "text/plain": [
       "<Figure size 432x288 with 1 Axes>"
      ]
     },
     "metadata": {},
     "output_type": "display_data"
    },
    {
     "data": {
      "image/png": "[encoded data removed]",
      "text/plain": [
       "<Figure size 432x288 with 1 Axes>"
      ]
     },
     "metadata": {},
     "output_type": "display_data"
    },
    {
     "data": {
      "image/png": "[encoded data removed]",
      "text/plain": [
       "<Figure size 432x288 with 1 Axes>"
      ]
     },
     "metadata": {},
     "output_type": "display_data"
    },
    {
     "data": {
      "image/png": "[encoded data removed]",
      "text/plain": [
       "<Figure size 432x288 with 1 Axes>"
      ]
     },
     "metadata": {},
     "output_type": "display_data"
    },
    {
     "data": {
      "image/png": "[encoded data removed]",
      "text/plain": [
       "<Figure size 432x288 with 1 Axes>"
      ]
     },
     "metadata": {},
     "output_type": "display_data"
    },
    {
     "data": {
      "image/png": "[encoded data removed]",
      "text/plain": [
       "<Figure size 432x288 with 1 Axes>"
      ]
     },
     "metadata": {},
     "output_type": "display_data"
    },
    {
     "data": {
      "image/png": "[encoded data removed]",
      "text/plain": [
       "<Figure size 432x288 with 1 Axes>"
      ]
     },
     "metadata": {},
     "output_type": "display_data"
    },
    {
     "data": {
      "image/png": "[encoded data removed]",
      "text/plain": [
       "<Figure size 432x288 with 1 Axes>"
      ]
     },
     "metadata": {},
     "output_type": "display_data"
    },
    {
     "data": {
      "image/png": "[encoded data removed]",
      "text/plain": [
       "<Figure size 432x288 with 1 Axes>"
      ]
     },
     "metadata": {},
     "output_type": "display_data"
    },
    {
     "name": "stdout",
     "output_type": "stream",
     "text": [
      "Accuracy:  0.8571428571428571\n"
     ]
    }
   ],
   "source": [
    "folder_dataset_test = dset.ImageFolder(root=testing_dir)\n",
    "dataiter = SiameseNetworkDataset_Evaluation(imageFolderDataset=folder_dataset_test)\n",
    "\n",
    "x0,_,x0_label, _= dataiter.next()\n",
    "\n",
    "\n",
    "\n",
    "images = []\n",
    "dissimilarity = []\n",
    "x1_labels = []\n",
    "for i in range(len(folder_dataset_test.imgs)-1):\n",
    "    _,x1, _, x1_label = dataiter.next()\n",
    "    x1_labels.append(x1_label)\n",
    "    x0 = x0.view(1, 1, 100, 100)\n",
    "    x1 = x1.view(1, 1, 100, 100)\n",
    "    concatenated = torch.cat((x0,x1),0)\n",
    "    euclidean_distance = net(Variable(x0),Variable(x1))\n",
    "    images.append(torchvision.utils.make_grid(concatenated))\n",
    "    dissimilarity.append(euclidean_distance.data.numpy()[0][0]) \n",
    "    imshow(images[i], 'Dissimilarity: {:.2f}'.format(dissimilarity[i]))\n",
    "    \n",
    "dissimilarity = np.array(dissimilarity)\n",
    "x1_labels = np.a–rray(x1_labels)\n",
    "score = 0\n",
    "num_same = sum(x1_labels == x0_label)\n",
    "\n",
    "pred_same = dissimilarity.argsort()[:num_same]\n",
    "score += sum([0]*num_same == (x1_labels[pred_same] != [x0_label]*num_same))\n",
    "num_diff = len(x1_labels) - num_same\n",
    "pred_diff = dissimilarity.argsort()[num_same:]\n",
    "score += sum([1]*num_diff == (x1_labels[pred_diff] != [x0_label]*num_diff))\n",
    "print(\"Accuracy: \", score/len(dissimilarity))\n"
   ]
  },
  {
   "cell_type": "code",
   "execution_count": null,
   "metadata": {},
   "outputs": [],
   "source": []
  }
 ],
 "metadata": {
  "hide_input": false,
  "kernelspec": {
   "display_name": "Python 3",
   "language": "python",
   "name": "python3"
  },
  "language_info": {
   "codemirror_mode": {
    "name": "ipython",
    "version": 3
   },
   "file_extension": ".py",
   "mimetype": "text/x-python",
   "name": "python",
   "nbconvert_exporter": "python",
   "pygments_lexer": "ipython3",
   "version": "3.6.5"
  }
 },
 "nbformat": 4,
 "nbformat_minor": 2
}
